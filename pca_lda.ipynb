{
 "cells": [
  {
   "cell_type": "code",
   "execution_count": 1,
   "metadata": {},
   "source": [
    "import matplotlib.pyplot as plt\n",
    "import numpy as np\n",
    "import pandas as pd\n",
    "\n",
    "from matplotlib import style\n",
    "from itertools import cycle\n",
    "from sklearn.decomposition import PCA\n",
    "from sklearn.pipeline import Pipeline\n",
    "from sklearn.discriminant_analysis import LinearDiscriminantAnalysis\n",
    "\n",
    "from sklearn.preprocessing import Normalizer\n",
    "\n",
    "from raman_lib.preprocessing import (BaselineCorrector,\n",
    "                                     RangeLimiter,\n",
    "                                     SavGolFilter)\n",
    "from raman_lib.crossvalidation import CrossValidator\n",
    "from raman_lib.visualization import (plot_validation_curve,\n",
    "                                     plot_confidence_scores,\n",
    "                                     plot_coefs,\n",
    "                                     plot_confusion_matrix,\n",
    "                                     plot_roc_curve,\n",
    "                                     boxplot_comparison,\n",
    "                                     plot_roc_comparison)\n",
    "\n",
    "from raman_lib.misc import load_data\n",
    "\n",
    "style.use(\"default\")\n",
    "plt.rcParams['figure.figsize'] = [10, 6]\n",
    "plt.rcParams['figure.dpi'] = 100"
   ],
   "outputs": []
  },
  {
   "cell_type": "code",
   "execution_count": 8,
   "metadata": {},
   "source": [
    "import sys\n",
    "sys.path"
   ],
   "outputs": []
  },
  {
   "cell_type": "markdown",
   "metadata": {},
   "source": [
    "## Setup\n",
    "### For storing results (when analyzing multiple datasets, only run this for the first one!)"
   ]
  },
  {
   "cell_type": "code",
   "execution_count": 2,
   "metadata": {},
   "source": [
    "accs = {}\n",
    "fit_times = {}\n",
    "predict_times = {}\n",
    "p_vals = {}\n",
    "rocs = {}\n",
    "aucs = {}"
   ],
   "outputs": []
  },
  {
   "cell_type": "markdown",
   "metadata": {},
   "source": [
    "### Settings"
   ]
  },
  {
   "cell_type": "code",
   "execution_count": 3,
   "metadata": {},
   "source": [
    "# Path where the data is stored\n",
    "data_path = \"/proj/raman/raman-pca/results_qc/sersitive.csv\"\n",
    "name = \"SERSitive Silver S\"\n",
    "\n",
    "# Spectral range to analyze\n",
    "# Use 'None' to use the whole range'\n",
    "wn_min = 450\n",
    "wn_max = 1800\n",
    "\n",
    "# Window size for smoothing the spectra\n",
    "# Higher means stronger smoothing\n",
    "sg_window = 15\n",
    "\n",
    "n_trials = 20  # Randomized repetitions\n",
    "n_folds = 5  # Cross validations"
   ],
   "outputs": []
  },
  {
   "cell_type": "markdown",
   "metadata": {},
   "source": [
    "## Load Data"
   ]
  },
  {
   "cell_type": "code",
   "execution_count": 4,
   "metadata": {},
   "source": [
    "data = load_data(data_path)\n",
    "\n",
    "if \"file\" in data.columns:\n",
    "    X = data.drop(columns=[\"label\", \"file\"])\n",
    "else:\n",
    "    X = data.drop(columns=[\"label\"])\n",
    "wns = np.asarray(X.columns.astype(float))\n",
    "X = np.asarray(X)\n",
    "\n",
    "y = np.asarray(data.label)\n",
    "y, y_key = pd.factorize(y)\n",
    "\n",
    "for i, label in enumerate(y_key):\n",
    "    print(f\"{label}: {i}\")"
   ],
   "outputs": []
  },
  {
   "cell_type": "markdown",
   "metadata": {},
   "source": [
    "## Preprocessing"
   ]
  },
  {
   "cell_type": "code",
   "execution_count": 5,
   "metadata": {},
   "source": [
    "X_orig = X.copy()\n",
    "X = BaselineCorrector().fit_transform(X)\n",
    "\n",
    "rl = RangeLimiter(lim=(wn_min, wn_max), reference=wns)\n",
    "X = rl.fit_transform(X)\n",
    "wns_reduced = wns[rl.lim_[0]:rl.lim_[1]]\n",
    "\n",
    "X = SavGolFilter().fit_transform(X)\n",
    "\n",
    "X = Normalizer().fit_transform(X)"
   ],
   "outputs": []
  },
  {
   "cell_type": "code",
   "execution_count": 6,
   "metadata": {},
   "source": [
    "clf = Pipeline(steps=[(\"pca\", PCA()),\n",
    "                      (\"lda\", LinearDiscriminantAnalysis())])\n",
    "\n",
    "p_grid = {\n",
    "    \"pca__n_components\": range(1, 10)\n",
    "}\n",
    "\n",
    "scoring = [\n",
    "    \"accuracy\"\n",
    "]\n",
    "\n",
    "cv = CrossValidator(clf, p_grid, \n",
    "                    coef_func=lambda x: np.matmul(x[0].components_.T,\n",
    "                                                  x[1].scalings_),\n",
    "                    n_jobs=-1,\n",
    "                    feature_names=wns_reduced).fit(X, y)\n"
   ],
   "outputs": []
  },
  {
   "cell_type": "code",
   "execution_count": null,
   "metadata": {},
   "source": [
    "ct_df = pd.DataFrame(cv.ct_results_)\n",
    "\n",
    "accs[name] = ct_df.test_score\n",
    "fit_times[name] = ct_df.fit_time\n",
    "predict_times[name] = ct_df.predict_time\n",
    "p_vals[name] = ct_df.p_value\n",
    "\n",
    "ct_df.describe()"
   ],
   "outputs": []
  },
  {
   "cell_type": "code",
   "execution_count": null,
   "metadata": {},
   "source": [
    "cv_df = pd.DataFrame(cv.cv_results_)\n",
    "\n",
    "fig, ax = plt.subplots()\n",
    "plot_validation_curve(cv_df, ax=ax)\n",
    "\n",
    "ax.set_xlabel(\"Number of Components\")\n",
    "ax.set_ylabel(\"Accuracy\")\n",
    "ax.grid()\n",
    "ax.legend(loc=\"upper left\")"
   ],
   "outputs": []
  },
  {
   "cell_type": "code",
   "execution_count": null,
   "metadata": {},
   "source": [
    "plot_probability = False\n",
    "\n",
    "fig, ax = plt.subplots()\n",
    "if plot_probability:\n",
    "    conf_scores = cv.predictions_[\"probability\"]\n",
    "    ax.axhline(0.5, color=\"k\", linestyle=\"--\", linewidth=1, alpha=0.7)\n",
    "    ax.set_yscale(\"logit\")\n",
    "    ax.set_ylabel(\"Probability (-)\")\n",
    "else:\n",
    "    conf_scores = cv.predictions_[\"conf_scores\"]\n",
    "    ax.axhline(0, color=\"k\", linestyle=\"--\", linewidth=1, alpha=0.7)\n",
    "    ax.set_ylabel(\"Confidence score (-)\")\n",
    "\n",
    "plot_confidence_scores(conf_scores, y_key[y], y_key, ax=ax)\n",
    "ax.grid(axis=\"y\")\n",
    "ax.get_legend().remove()"
   ],
   "outputs": []
  },
  {
   "cell_type": "code",
   "execution_count": null,
   "metadata": {},
   "source": [
    "coef_df = pd.DataFrame(cv.coefs_, columns=wns_reduced)\n",
    "\n",
    "fig, ax = plt.subplots()\n",
    "plot_coefs(coef_df, ax=ax, show_range=True, annotate=True, annot_kw={\"min_height\": 0.2, \n",
    "                                                                     \"min_dist\": 50,\n",
    "                                                                     \"offset\": 10})\n",
    "\n",
    "ax.set_xlabel(\"Wavenumber ($\\mathregular{cm^{-1}}$)\")\n",
    "ax.set_ylabel(\"Coefficient (-)\")\n",
    "ax.margins(x=0, y=0.15)\n",
    "ax.grid()"
   ],
   "outputs": []
  },
  {
   "cell_type": "code",
   "execution_count": null,
   "metadata": {},
   "source": [
    "predictions = cv.predictions_[\"y_pred\"]\n",
    "\n",
    "fig, ax = plt.subplots(figsize=(6,6))\n",
    "plot_confusion_matrix(predictions, y, labels=y_key, ax=ax, cmap=\"Greys\", colorbar=True)"
   ],
   "outputs": []
  },
  {
   "cell_type": "code",
   "execution_count": null,
   "metadata": {},
   "source": [
    "fig, ax = plt.subplots()\n",
    "roc, auc = plot_roc_curve(conf_scores, y, name, ax=ax)\n",
    "\n",
    "ax.set_xlabel(f\"False Positive Rate\")\n",
    "ax.set_ylabel(f\"True Positive Rate\")\n",
    "ax.legend(loc=\"lower right\")\n",
    "ax.grid()\n",
    "\n",
    "rocs[name] = roc\n",
    "aucs[name] = auc"
   ],
   "outputs": []
  },
  {
   "cell_type": "markdown",
   "metadata": {},
   "source": [
    "## Comparison"
   ]
  },
  {
   "cell_type": "code",
   "execution_count": null,
   "metadata": {},
   "source": [
    "fig, ax = plt.subplots(figsize=(8,4))\n",
    "boxplot_comparison(accs)\n",
    "\n",
    "ax.grid(axis=\"y\")\n",
    "ax.set_ylabel(\"Accuracy\")"
   ],
   "outputs": []
  },
  {
   "cell_type": "code",
   "execution_count": null,
   "metadata": {},
   "source": [
    "fig, ax = plt.subplots(figsize=(8,4))\n",
    "boxplot_comparison(p_vals)\n",
    "\n",
    "ax.set_yscale(\"log\")\n",
    "ax.grid(axis=\"y\")\n",
    "ax.set_ylabel(\"p-Value\")"
   ],
   "outputs": []
  },
  {
   "cell_type": "code",
   "execution_count": null,
   "metadata": {},
   "source": [
    "fig, ax = plt.subplots()\n",
    "plot_roc_comparison(rocs, aucs, ax=ax)\n",
    "\n",
    "ax.grid()\n",
    "ax.set_xlabel(f\"False Positive Rate\")\n",
    "ax.set_ylabel(f\"True Positive Rate\")\n",
    "ax.legend(loc=\"lower right\")"
   ],
   "outputs": []
  },
  {
   "cell_type": "code",
   "execution_count": null,
   "metadata": {},
   "source": [],
   "outputs": []
  }
 ],
 "metadata": {
  "kernelspec": {
   "display_name": "raman",
   "language": "python",
   "name": "raman"
  },
  "language_info": {
   "codemirror_mode": {
    "name": "ipython",
    "version": 3
   },
   "file_extension": ".py",
   "mimetype": "text/x-python",
   "name": "python",
   "nbconvert_exporter": "python",
   "pygments_lexer": "ipython3",
   "version": "3.10.8"
  },
  "vscode": {
   "interpreter": {
    "hash": "a6343514cd259acb85328b5cefdb71744806c5b05c5d0873e700e44a05afe544"
   }
  }
 },
 "nbformat": 4,
 "nbformat_minor": 4
}
