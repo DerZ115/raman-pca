{
 "cells": [
  {
   "cell_type": "code",
   "execution_count": 1,
   "metadata": {},
   "outputs": [
    {
     "name": "stderr",
     "output_type": "stream",
     "text": [
      "/proj/raman/raman-pca/raman_lib/crossvalidation.py:161: TqdmExperimentalWarning: Using `tqdm.autonotebook.tqdm` in notebook mode. Use `tqdm.tqdm` instead to force console mode (e.g. in jupyter console)\n",
      "  from tqdm.autonotebook import tqdm\n"
     ]
    }
   ],
   "source": [
    "import matplotlib.pyplot as plt\n",
    "import numpy as np\n",
    "import pandas as pd\n",
    "\n",
    "from matplotlib import style\n",
    "from itertools import cycle\n",
    "from sklearn.decomposition import PCA\n",
    "from sklearn.pipeline import Pipeline\n",
    "from sklearn.discriminant_analysis import LinearDiscriminantAnalysis\n",
    "\n",
    "from sklearn.preprocessing import Normalizer\n",
    "\n",
    "from raman_lib.preprocessing import (BaselineCorrector,\n",
    "                                     RangeLimiter,\n",
    "                                     SavGolFilter)\n",
    "from raman_lib.crossvalidation import CrossValidator\n",
    "from raman_lib.visualization import (plot_validation_curve,\n",
    "                                     plot_confidence_scores,\n",
    "                                     plot_coefs,\n",
    "                                     plot_confusion_matrix,\n",
    "                                     plot_roc_curve,\n",
    "                                     boxplot_comparison,\n",
    "                                     plot_roc_comparison)\n",
    "\n",
    "from raman_lib.misc import load_data\n",
    "\n",
    "style.use(\"default\")\n",
    "plt.rcParams['figure.figsize'] = [10, 6]\n",
    "plt.rcParams['figure.dpi'] = 100"
   ]
  },
  {
   "cell_type": "code",
   "execution_count": 8,
   "metadata": {},
   "outputs": [
    {
     "data": {
      "text/plain": [
       "['/proj/raman/raman-pca',\n",
       " '/apps/anaconda3/envs/raman-pca/lib/python310.zip',\n",
       " '/apps/anaconda3/envs/raman-pca/lib/python3.10',\n",
       " '/apps/anaconda3/envs/raman-pca/lib/python3.10/lib-dynload',\n",
       " '',\n",
       " '/apps/anaconda3/envs/raman-pca/lib/python3.10/site-packages']"
      ]
     },
     "execution_count": 8,
     "metadata": {},
     "output_type": "execute_result"
    }
   ],
   "source": [
    "import sys\n",
    "sys.path"
   ]
  },
  {
   "cell_type": "markdown",
   "metadata": {},
   "source": [
    "## Setup\n",
    "### For storing results (when analyzing multiple datasets, only run this for the first one!)"
   ]
  },
  {
   "cell_type": "code",
   "execution_count": 2,
   "metadata": {},
   "outputs": [],
   "source": [
    "accs = {}\n",
    "fit_times = {}\n",
    "predict_times = {}\n",
    "p_vals = {}\n",
    "rocs = {}\n",
    "aucs = {}"
   ]
  },
  {
   "cell_type": "markdown",
   "metadata": {},
   "source": [
    "### Settings"
   ]
  },
  {
   "cell_type": "code",
   "execution_count": 3,
   "metadata": {},
   "outputs": [],
   "source": [
    "# Path where the data is stored\n",
    "data_path = \"/proj/raman/raman-pca/results_qc/sersitive.csv\"\n",
    "name = \"SERSitive Silver S\"\n",
    "\n",
    "# Spectral range to analyze\n",
    "# Use 'None' to use the whole range'\n",
    "wn_min = 450\n",
    "wn_max = 1800\n",
    "\n",
    "# Window size for smoothing the spectra\n",
    "# Higher means stronger smoothing\n",
    "sg_window = 15\n",
    "\n",
    "n_trials = 20  # Randomized repetitions\n",
    "n_folds = 5  # Cross validations"
   ]
  },
  {
   "cell_type": "markdown",
   "metadata": {},
   "source": [
    "## Load Data"
   ]
  },
  {
   "cell_type": "code",
   "execution_count": 4,
   "metadata": {},
   "outputs": [
    {
     "name": "stdout",
     "output_type": "stream",
     "text": [
      "b_subtilis: 0\n",
      "ecoli_c: 1\n",
      "paenibacillus: 2\n"
     ]
    }
   ],
   "source": [
    "data = load_data(data_path)\n",
    "\n",
    "if \"file\" in data.columns:\n",
    "    X = data.drop(columns=[\"label\", \"file\"])\n",
    "else:\n",
    "    X = data.drop(columns=[\"label\"])\n",
    "wns = np.asarray(X.columns.astype(float))\n",
    "X = np.asarray(X)\n",
    "\n",
    "y = np.asarray(data.label)\n",
    "y, y_key = pd.factorize(y)\n",
    "\n",
    "for i, label in enumerate(y_key):\n",
    "    print(f\"{label}: {i}\")"
   ]
  },
  {
   "cell_type": "markdown",
   "metadata": {},
   "source": [
    "## Preprocessing"
   ]
  },
  {
   "cell_type": "code",
   "execution_count": 5,
   "metadata": {},
   "outputs": [],
   "source": [
    "X_orig = X.copy()\n",
    "X = BaselineCorrector().fit_transform(X)\n",
    "\n",
    "rl = RangeLimiter(lim=(wn_min, wn_max), reference=wns)\n",
    "X = rl.fit_transform(X)\n",
    "wns_reduced = wns[rl.lim_[0]:rl.lim_[1]]\n",
    "\n",
    "X = SavGolFilter().fit_transform(X)\n",
    "\n",
    "X = Normalizer().fit_transform(X)"
   ]
  },
  {
   "cell_type": "code",
   "execution_count": 6,
   "metadata": {},
   "outputs": [
    {
     "data": {
      "application/vnd.jupyter.widget-view+json": {
       "model_id": "84cf46f61fa8401280b1876b4244aea3",
       "version_major": 2,
       "version_minor": 0
      },
      "text/plain": [
       "  0%|          | 0/20 [00:00<?, ?it/s]"
      ]
     },
     "metadata": {},
     "output_type": "display_data"
    },
    {
     "ename": "ValueError",
     "evalue": "could not broadcast input array from shape (2701,2) into shape (2701,)",
     "output_type": "error",
     "traceback": [
      "\u001b[0;31m---------------------------------------------------------------------------\u001b[0m",
      "\u001b[0;31mValueError\u001b[0m                                Traceback (most recent call last)",
      "Cell \u001b[0;32mIn[6], line 16\u001b[0m\n\u001b[1;32m      4\u001b[0m p_grid \u001b[38;5;241m=\u001b[39m {\n\u001b[1;32m      5\u001b[0m     \u001b[38;5;124m\"\u001b[39m\u001b[38;5;124mpca__n_components\u001b[39m\u001b[38;5;124m\"\u001b[39m: \u001b[38;5;28mrange\u001b[39m(\u001b[38;5;241m1\u001b[39m, \u001b[38;5;241m10\u001b[39m)\n\u001b[1;32m      6\u001b[0m }\n\u001b[1;32m      8\u001b[0m scoring \u001b[38;5;241m=\u001b[39m [\n\u001b[1;32m      9\u001b[0m     \u001b[38;5;124m\"\u001b[39m\u001b[38;5;124maccuracy\u001b[39m\u001b[38;5;124m\"\u001b[39m\n\u001b[1;32m     10\u001b[0m ]\n\u001b[1;32m     12\u001b[0m cv \u001b[38;5;241m=\u001b[39m \u001b[43mCrossValidator\u001b[49m\u001b[43m(\u001b[49m\u001b[43mclf\u001b[49m\u001b[43m,\u001b[49m\u001b[43m \u001b[49m\u001b[43mp_grid\u001b[49m\u001b[43m,\u001b[49m\u001b[43m \u001b[49m\n\u001b[1;32m     13\u001b[0m \u001b[43m                    \u001b[49m\u001b[43mcoef_func\u001b[49m\u001b[38;5;241;43m=\u001b[39;49m\u001b[38;5;28;43;01mlambda\u001b[39;49;00m\u001b[43m \u001b[49m\u001b[43mx\u001b[49m\u001b[43m:\u001b[49m\u001b[43m \u001b[49m\u001b[43mnp\u001b[49m\u001b[38;5;241;43m.\u001b[39;49m\u001b[43mmatmul\u001b[49m\u001b[43m(\u001b[49m\u001b[43mx\u001b[49m\u001b[43m[\u001b[49m\u001b[38;5;241;43m0\u001b[39;49m\u001b[43m]\u001b[49m\u001b[38;5;241;43m.\u001b[39;49m\u001b[43mcomponents_\u001b[49m\u001b[38;5;241;43m.\u001b[39;49m\u001b[43mT\u001b[49m\u001b[43m,\u001b[49m\n\u001b[1;32m     14\u001b[0m \u001b[43m                                                  \u001b[49m\u001b[43mx\u001b[49m\u001b[43m[\u001b[49m\u001b[38;5;241;43m1\u001b[39;49m\u001b[43m]\u001b[49m\u001b[38;5;241;43m.\u001b[39;49m\u001b[43mscalings_\u001b[49m\u001b[43m)\u001b[49m\u001b[43m,\u001b[49m\n\u001b[1;32m     15\u001b[0m \u001b[43m                    \u001b[49m\u001b[43mn_jobs\u001b[49m\u001b[38;5;241;43m=\u001b[39;49m\u001b[38;5;241;43m-\u001b[39;49m\u001b[38;5;241;43m1\u001b[39;49m\u001b[43m,\u001b[49m\n\u001b[0;32m---> 16\u001b[0m \u001b[43m                    \u001b[49m\u001b[43mfeature_names\u001b[49m\u001b[38;5;241;43m=\u001b[39;49m\u001b[43mwns_reduced\u001b[49m\u001b[43m)\u001b[49m\u001b[38;5;241;43m.\u001b[39;49m\u001b[43mfit\u001b[49m\u001b[43m(\u001b[49m\u001b[43mX\u001b[49m\u001b[43m,\u001b[49m\u001b[43m \u001b[49m\u001b[43my\u001b[49m\u001b[43m)\u001b[49m\n",
      "File \u001b[0;32m/proj/raman/raman-pca/raman_lib/crossvalidation.py:239\u001b[0m, in \u001b[0;36mCrossValidator.fit\u001b[0;34m(self, X, y)\u001b[0m\n\u001b[1;32m    230\u001b[0m     ct_results_tmp \u001b[38;5;241m=\u001b[39m cross_validate(estimator,\n\u001b[1;32m    231\u001b[0m                                     X, y,\n\u001b[1;32m    232\u001b[0m                                     scoring\u001b[38;5;241m=\u001b[39m\u001b[38;5;28mself\u001b[39m\u001b[38;5;241m.\u001b[39mscoring,\n\u001b[0;32m   (...)\u001b[0m\n\u001b[1;32m    236\u001b[0m                                     n_jobs\u001b[38;5;241m=\u001b[39mct_jobs,\n\u001b[1;32m    237\u001b[0m                                     verbose\u001b[38;5;241m=\u001b[39m\u001b[38;5;28mself\u001b[39m\u001b[38;5;241m.\u001b[39mverbose)\n\u001b[1;32m    238\u001b[0m     cv_logger\u001b[38;5;241m.\u001b[39mdebug(\u001b[38;5;124m\"\u001b[39m\u001b[38;5;124mCross testing complete. Storing results...\u001b[39m\u001b[38;5;124m\"\u001b[39m)\n\u001b[0;32m--> 239\u001b[0m     \u001b[38;5;28;43mself\u001b[39;49m\u001b[38;5;241;43m.\u001b[39;49m\u001b[43m_store_ct_results\u001b[49m\u001b[43m(\u001b[49m\u001b[43mX\u001b[49m\u001b[43m,\u001b[49m\u001b[43m \u001b[49m\u001b[43my\u001b[49m\u001b[43m,\u001b[49m\u001b[43m \u001b[49m\u001b[43mi\u001b[49m\u001b[43m,\u001b[49m\n\u001b[1;32m    240\u001b[0m \u001b[43m                           \u001b[49m\u001b[43mouter_cv\u001b[49m\u001b[43m,\u001b[49m\n\u001b[1;32m    241\u001b[0m \u001b[43m                           \u001b[49m\u001b[43mdummy_results\u001b[49m\u001b[43m,\u001b[49m\n\u001b[1;32m    242\u001b[0m \u001b[43m                           \u001b[49m\u001b[43mct_results_tmp\u001b[49m\u001b[43m)\u001b[49m\n\u001b[1;32m    244\u001b[0m \u001b[38;5;28;01mif\u001b[39;00m \u001b[38;5;28mself\u001b[39m\u001b[38;5;241m.\u001b[39mexplainer:\n\u001b[1;32m    245\u001b[0m     cv_logger\u001b[38;5;241m.\u001b[39mdebug(\u001b[38;5;124m\"\u001b[39m\u001b[38;5;124mStoring SHAP results\u001b[39m\u001b[38;5;124m\"\u001b[39m)\n",
      "File \u001b[0;32m/proj/raman/raman-pca/raman_lib/crossvalidation.py:386\u001b[0m, in \u001b[0;36mCrossValidator._store_ct_results\u001b[0;34m(self, X, y, i, outer_cv, dummy_results, ct_results_tmp)\u001b[0m\n\u001b[1;32m    384\u001b[0m \u001b[38;5;28;01mif\u001b[39;00m \u001b[38;5;28mself\u001b[39m\u001b[38;5;241m.\u001b[39mcoef_func:\n\u001b[1;32m    385\u001b[0m     cv_logger\u001b[38;5;241m.\u001b[39mdebug(\u001b[38;5;124m\"\u001b[39m\u001b[38;5;124mStoring coefficients\u001b[39m\u001b[38;5;124m\"\u001b[39m)\n\u001b[0;32m--> 386\u001b[0m     \u001b[43mcoef_tmp\u001b[49m\u001b[43m[\u001b[49m\u001b[43mj\u001b[49m\u001b[43m,\u001b[49m\u001b[43m:\u001b[49m\u001b[43m]\u001b[49m \u001b[38;5;241m=\u001b[39m \u001b[38;5;28mself\u001b[39m\u001b[38;5;241m.\u001b[39mcoef_func(current_estimator)\u001b[38;5;241m.\u001b[39msqueeze()\n\u001b[1;32m    388\u001b[0m cv_logger\u001b[38;5;241m.\u001b[39mdebug(\u001b[38;5;124m\"\u001b[39m\u001b[38;5;124mStoring predictions\u001b[39m\u001b[38;5;124m\"\u001b[39m)\n\u001b[1;32m    389\u001b[0m y_pred \u001b[38;5;241m=\u001b[39m current_estimator\u001b[38;5;241m.\u001b[39mpredict(X_test)\n",
      "\u001b[0;31mValueError\u001b[0m: could not broadcast input array from shape (2701,2) into shape (2701,)"
     ]
    }
   ],
   "source": [
    "clf = Pipeline(steps=[(\"pca\", PCA()),\n",
    "                      (\"lda\", LinearDiscriminantAnalysis())])\n",
    "\n",
    "p_grid = {\n",
    "    \"pca__n_components\": range(1, 10)\n",
    "}\n",
    "\n",
    "scoring = [\n",
    "    \"accuracy\"\n",
    "]\n",
    "\n",
    "cv = CrossValidator(clf, p_grid, \n",
    "                    coef_func=lambda x: np.matmul(x[0].components_.T,\n",
    "                                                  x[1].scalings_),\n",
    "                    n_jobs=-1,\n",
    "                    feature_names=wns_reduced).fit(X, y)\n"
   ]
  },
  {
   "cell_type": "code",
   "execution_count": null,
   "metadata": {},
   "outputs": [],
   "source": [
    "ct_df = pd.DataFrame(cv.ct_results_)\n",
    "\n",
    "accs[name] = ct_df.test_score\n",
    "fit_times[name] = ct_df.fit_time\n",
    "predict_times[name] = ct_df.predict_time\n",
    "p_vals[name] = ct_df.p_value\n",
    "\n",
    "ct_df.describe()"
   ]
  },
  {
   "cell_type": "code",
   "execution_count": null,
   "metadata": {},
   "outputs": [],
   "source": [
    "cv_df = pd.DataFrame(cv.cv_results_)\n",
    "\n",
    "fig, ax = plt.subplots()\n",
    "plot_validation_curve(cv_df, ax=ax)\n",
    "\n",
    "ax.set_xlabel(\"Number of Components\")\n",
    "ax.set_ylabel(\"Accuracy\")\n",
    "ax.grid()\n",
    "ax.legend(loc=\"upper left\")"
   ]
  },
  {
   "cell_type": "code",
   "execution_count": null,
   "metadata": {},
   "outputs": [],
   "source": [
    "plot_probability = False\n",
    "\n",
    "fig, ax = plt.subplots()\n",
    "if plot_probability:\n",
    "    conf_scores = cv.predictions_[\"probability\"]\n",
    "    ax.axhline(0.5, color=\"k\", linestyle=\"--\", linewidth=1, alpha=0.7)\n",
    "    ax.set_yscale(\"logit\")\n",
    "    ax.set_ylabel(\"Probability (-)\")\n",
    "else:\n",
    "    conf_scores = cv.predictions_[\"conf_scores\"]\n",
    "    ax.axhline(0, color=\"k\", linestyle=\"--\", linewidth=1, alpha=0.7)\n",
    "    ax.set_ylabel(\"Confidence score (-)\")\n",
    "\n",
    "plot_confidence_scores(conf_scores, y_key[y], y_key, ax=ax)\n",
    "ax.grid(axis=\"y\")\n",
    "ax.get_legend().remove()"
   ]
  },
  {
   "cell_type": "code",
   "execution_count": null,
   "metadata": {},
   "outputs": [],
   "source": [
    "coef_df = pd.DataFrame(cv.coefs_, columns=wns_reduced)\n",
    "\n",
    "fig, ax = plt.subplots()\n",
    "plot_coefs(coef_df, ax=ax, show_range=True, annotate=True, annot_kw={\"min_height\": 0.2, \n",
    "                                                                     \"min_dist\": 50,\n",
    "                                                                     \"offset\": 10})\n",
    "\n",
    "ax.set_xlabel(\"Wavenumber ($\\mathregular{cm^{-1}}$)\")\n",
    "ax.set_ylabel(\"Coefficient (-)\")\n",
    "ax.margins(x=0, y=0.15)\n",
    "ax.grid()"
   ]
  },
  {
   "cell_type": "code",
   "execution_count": null,
   "metadata": {},
   "outputs": [],
   "source": [
    "predictions = cv.predictions_[\"y_pred\"]\n",
    "\n",
    "fig, ax = plt.subplots(figsize=(6,6))\n",
    "plot_confusion_matrix(predictions, y, labels=y_key, ax=ax, cmap=\"Greys\", colorbar=True)"
   ]
  },
  {
   "cell_type": "code",
   "execution_count": null,
   "metadata": {},
   "outputs": [],
   "source": [
    "fig, ax = plt.subplots()\n",
    "roc, auc = plot_roc_curve(conf_scores, y, name, ax=ax)\n",
    "\n",
    "ax.set_xlabel(f\"False Positive Rate\")\n",
    "ax.set_ylabel(f\"True Positive Rate\")\n",
    "ax.legend(loc=\"lower right\")\n",
    "ax.grid()\n",
    "\n",
    "rocs[name] = roc\n",
    "aucs[name] = auc"
   ]
  },
  {
   "cell_type": "markdown",
   "metadata": {},
   "source": [
    "## Comparison"
   ]
  },
  {
   "cell_type": "code",
   "execution_count": null,
   "metadata": {},
   "outputs": [],
   "source": [
    "fig, ax = plt.subplots(figsize=(8,4))\n",
    "boxplot_comparison(accs)\n",
    "\n",
    "ax.grid(axis=\"y\")\n",
    "ax.set_ylabel(\"Accuracy\")"
   ]
  },
  {
   "cell_type": "code",
   "execution_count": null,
   "metadata": {},
   "outputs": [],
   "source": [
    "fig, ax = plt.subplots(figsize=(8,4))\n",
    "boxplot_comparison(p_vals)\n",
    "\n",
    "ax.set_yscale(\"log\")\n",
    "ax.grid(axis=\"y\")\n",
    "ax.set_ylabel(\"p-Value\")"
   ]
  },
  {
   "cell_type": "code",
   "execution_count": null,
   "metadata": {},
   "outputs": [],
   "source": [
    "fig, ax = plt.subplots()\n",
    "plot_roc_comparison(rocs, aucs, ax=ax)\n",
    "\n",
    "ax.grid()\n",
    "ax.set_xlabel(f\"False Positive Rate\")\n",
    "ax.set_ylabel(f\"True Positive Rate\")\n",
    "ax.legend(loc=\"lower right\")"
   ]
  },
  {
   "cell_type": "code",
   "execution_count": null,
   "metadata": {},
   "outputs": [],
   "source": []
  }
 ],
 "metadata": {
  "kernelspec": {
   "display_name": "raman",
   "language": "python",
   "name": "raman"
  },
  "language_info": {
   "codemirror_mode": {
    "name": "ipython",
    "version": 3
   },
   "file_extension": ".py",
   "mimetype": "text/x-python",
   "name": "python",
   "nbconvert_exporter": "python",
   "pygments_lexer": "ipython3",
   "version": "3.10.8"
  },
  "vscode": {
   "interpreter": {
    "hash": "a6343514cd259acb85328b5cefdb71744806c5b05c5d0873e700e44a05afe544"
   }
  }
 },
 "nbformat": 4,
 "nbformat_minor": 4
}
