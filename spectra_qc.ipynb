{
 "cells": [
  {
   "cell_type": "markdown",
   "metadata": {},
   "source": [
    "# Raman Spectra Quality Control\n",
    "\n",
    "## Setup\n",
    "\n",
    "Import required packages"
   ]
  },
  {
   "cell_type": "code",
   "execution_count": 1,
   "metadata": {
    "tags": []
   },
   "source": [
    "import os\n",
    "import pandas as pd\n",
    "import seaborn as sns\n",
    "import matplotlib.pyplot as plt\n",
    "\n",
    "from raman_lib.spectra_scoring import score_sort_spectra, score_names\n",
    "from raman_lib.misc import load_data\n",
    "from raman_lib.visualization import plot_spectra_peaks\n",
    "from raman_lib.preprocessing import RangeLimiter, BaselineCorrector"
   ],
   "outputs": []
  },
  {
   "cell_type": "markdown",
   "metadata": {},
   "source": [
    "Settings"
   ]
  },
  {
   "cell_type": "code",
   "execution_count": 3,
   "metadata": {
    "tags": []
   },
   "source": [
    "# Name of the Dataset (for the output file)\n",
    "name = \"D3 Passages with PBMCs\"\n",
    "\n",
    "# Path where the data is stored\n",
    "path = r\"/proj/raman/Raman_Bernadette_out/A1 - D3 different passages with PBMCs/\"\n",
    "\n",
    "# Spectral range to analyze\n",
    "# Use 'None' to use the whole range'\n",
    "wn_min = None\n",
    "wn_max = None\n",
    "\n",
    "# QC settings - Choose either A or B and set the other to 'None'\n",
    "# A)\n",
    "n = 300 # How many spectra (per class) to keep (exactly this number - or less \n",
    "         # if a class does not contain enough spectra)\n",
    "         \n",
    "# B)\n",
    "score_min = None # Minimum quality score that a spectrum must have to be kept.\n",
    "n_min = None # Number of spectra that will be kept per class regardless of the score\n",
    "\n",
    "# Window size for the Savitzky-Golay-Filter. Higher means stronger smoothing and less peaks found\n",
    "sg_window = 50\n",
    "\n",
    "# Threshold for the derivative. Higher means less peaks found.\n",
    "threshold = 0.001\n",
    "\n",
    "# Minimum height a peak must have to be detected\n",
    "min_height = 50\n",
    "\n",
    "# Plot baseline corrected (False) or raw spectra (True)\n",
    "plot_raw = True"
   ],
   "outputs": []
  },
  {
   "cell_type": "markdown",
   "metadata": {},
   "source": [
    "## Load Data"
   ]
  },
  {
   "cell_type": "code",
   "execution_count": 21,
   "metadata": {
    "tags": []
   },
   "source": [
    "data = load_data(path)\n",
    "\n",
    "print(\"Number of spectra per class:\")\n",
    "print(data.label.value_counts())"
   ],
   "outputs": []
  },
  {
   "cell_type": "markdown",
   "metadata": {},
   "source": [
    "## Scoring and Spectra Selection"
   ]
  },
  {
   "cell_type": "code",
   "execution_count": 22,
   "metadata": {
    "tags": []
   },
   "source": [
    "data_new, deriv, score_dict = score_sort_spectra(data, \n",
    "                                                 n=n,\n",
    "                                                 min_score=score_min, \n",
    "                                                 min_n=n_min,\n",
    "                                                 limits=(wn_min, wn_max), \n",
    "                                                 sg_window=sg_window, \n",
    "                                                 threshold=threshold, \n",
    "                                                 min_height=min_height,\n",
    "                                                 score_measure=1,\n",
    "                                                 n_peaks_influence=2,\n",
    "                                                 detailed=True)\n",
    "\n",
    "print()\n",
    "print(\"====================================\")\n",
    "print()\n",
    "print(\"Number of spectra per class (after QC):\")\n",
    "print(data_new.label.value_counts())"
   ],
   "outputs": []
  },
  {
   "cell_type": "code",
   "execution_count": 23,
   "metadata": {
    "tags": []
   },
   "source": [
    "wns = data.drop(columns=[\"label\", \"file\"]).columns\n",
    "if plot_raw:\n",
    "    data_plot = data.drop(columns=[\"label\", \"file\"])\n",
    "else:\n",
    "    bl = BaselineCorrector()\n",
    "    data_plot = bl.fit_transform(data.drop(columns=[\"label\", \"file\"]))\n",
    "    data_plot = pd.DataFrame(data_plot, columns=wns)\n",
    "\n",
    "rl = RangeLimiter(lim=(wn_min, wn_max), \n",
    "                  reference=data_plot.columns)\n",
    "data_plot = rl.fit_transform(data_plot)\n",
    "wns_plot = data_plot.columns"
   ],
   "outputs": []
  },
  {
   "cell_type": "code",
   "execution_count": 25,
   "metadata": {
    "tags": []
   },
   "source": [
    "%matplotlib ipympl\n",
    "plot_spectra_peaks(wns_plot, \n",
    "                   data_plot, \n",
    "                   deriv,\n",
    "                   score_dict[\"peak_pos\"],\n",
    "                   score_dict[\"total_scores\"],\n",
    "                   labels=data.file)"
   ],
   "outputs": []
  },
  {
   "cell_type": "code",
   "execution_count": 27,
   "metadata": {
    "tags": []
   },
   "source": [
    "peak_lims = [0, None]\n",
    "int_lims = [0, None]\n",
    "y_lims = [None, None]\n",
    "\n",
    "fig, ((ax_box1, ax_box2), (ax_hist1, ax_hist2)) = plt.subplots(\n",
    "    2, 2, sharex=\"col\", sharey=\"row\", gridspec_kw={\"height_ratios\": (.15, .85)})\n",
    "\n",
    "sns.boxplot(x=score_dict[\"peak_scores\"], ax=ax_box1)\n",
    "sns.boxplot(x=score_dict[\"intensity_scores\"], ax=ax_box2)\n",
    "sns.histplot(score_dict[\"peak_scores\"], ax=ax_hist1, binrange=None, binwidth=2.5)\n",
    "sns.histplot(score_dict[\"intensity_scores\"], ax=ax_hist2, binrange=None, binwidth=250)\n",
    "\n",
    "ax_box1.set(yticks=[])\n",
    "ax_box2.set(yticks=[])\n",
    "sns.despine(ax=ax_hist1)\n",
    "sns.despine(ax=ax_hist2)\n",
    "sns.despine(ax=ax_box1, left=True)\n",
    "sns.despine(ax=ax_box2, left=True)\n",
    "\n",
    "ax_hist1.set_xlim(peak_lims)\n",
    "ax_hist2.set_xlim(int_lims)\n",
    "\n",
    "ax_hist1.set_ylim(y_lims)\n",
    "\n",
    "ax_hist1.autoscale_view()\n",
    "ax_hist2.autoscale_view()\n",
    "\n",
    "ax_hist1.set_xlabel(\"Number of Peaks\")\n",
    "ax_hist2.set_xlabel(\"Median Peak Height\")\n",
    "\n",
    "ax_box1.tick_params(axis=\"x\", labelbottom=True)\n",
    "ax_box2.tick_params(axis=\"x\", labelbottom=True)\n",
    "\n",
    "fig.tight_layout()"
   ],
   "outputs": []
  },
  {
   "cell_type": "markdown",
   "metadata": {},
   "source": [
    "## Export selected spectra"
   ]
  },
  {
   "cell_type": "code",
   "execution_count": 17,
   "metadata": {
    "tags": []
   },
   "source": [
    "filename = name.lower().replace(\" \", \"_\") + \".csv\"\n",
    "\n",
    "if not os.path.exists(\"./results_qc/\"):\n",
    "    os.mkdir(\"./results_qc/\")\n",
    "\n",
    "data_new.to_csv(os.path.join(\"./results_qc/\", filename), index=False)"
   ],
   "outputs": []
  },
  {
   "cell_type": "code",
   "execution_count": null,
   "metadata": {},
   "source": [],
   "outputs": []
  }
 ],
 "metadata": {
  "kernelspec": {
   "display_name": "raman",
   "language": "python",
   "name": "raman"
  },
  "language_info": {
   "codemirror_mode": {
    "name": "ipython",
    "version": 3
   },
   "file_extension": ".py",
   "mimetype": "text/x-python",
   "name": "python",
   "nbconvert_exporter": "python",
   "pygments_lexer": "ipython3",
   "version": "3.10.8"
  },
  "vscode": {
   "interpreter": {
    "hash": "a6343514cd259acb85328b5cefdb71744806c5b05c5d0873e700e44a05afe544"
   }
  }
 },
 "nbformat": 4,
 "nbformat_minor": 4
}
