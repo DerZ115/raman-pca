{
 "cells": [
  {
   "cell_type": "code",
   "execution_count": 10,
   "metadata": {},
   "outputs": [],
   "source": [
    "import os\n",
    "\n",
    "from raman_lib.spectra_scoring import score_sort_spectra\n",
    "from raman_lib.misc import load_data"
   ]
  },
  {
   "cell_type": "code",
   "execution_count": 11,
   "metadata": {},
   "outputs": [],
   "source": [
    "name = \"Biofilme\"\n",
    "\n",
    "path = \"./data\""
   ]
  },
  {
   "cell_type": "code",
   "execution_count": 12,
   "metadata": {},
   "outputs": [
    {
     "name": "stdout",
     "output_type": "stream",
     "text": [
      "W+1B\n",
      "1B\n",
      "2B\n",
      "W\n",
      "W+2B\n",
      "PW\n"
     ]
    }
   ],
   "source": [
    "data = load_data(path)"
   ]
  },
  {
   "cell_type": "code",
   "execution_count": 13,
   "metadata": {},
   "outputs": [
    {
     "name": "stdout",
     "output_type": "stream",
     "text": [
      "1B      48\n",
      "W       32\n",
      "2B      16\n",
      "W+2B    16\n",
      "W+1B    15\n",
      "PW      15\n",
      "Name: label, dtype: int64\n"
     ]
    }
   ],
   "source": [
    "print(data.label.value_counts())"
   ]
  },
  {
   "cell_type": "code",
   "execution_count": 14,
   "metadata": {},
   "outputs": [
    {
     "name": "stdout",
     "output_type": "stream",
     "text": [
      "Analyzed 142 spectra in 2.92 seconds.\n",
      "\n",
      "Mean Score: 22791\n",
      "\n",
      "1st Quartile: 9622\n",
      "Median Score: 14744\n",
      "3rd Quartile: 26955\n",
      "\n",
      "Min Score: 365\n",
      "Max Score: 64676\n"
     ]
    }
   ],
   "source": [
    "data_new = score_sort_spectra(data, min_score=5000, min_n=10)"
   ]
  },
  {
   "cell_type": "code",
   "execution_count": 15,
   "metadata": {},
   "outputs": [
    {
     "name": "stdout",
     "output_type": "stream",
     "text": [
      "1B      48\n",
      "W       32\n",
      "W+2B    16\n",
      "W+1B    15\n",
      "2B      10\n",
      "PW      10\n",
      "Name: label, dtype: int64\n"
     ]
    }
   ],
   "source": [
    "print(data_new.label.value_counts())"
   ]
  },
  {
   "cell_type": "code",
   "execution_count": 16,
   "metadata": {},
   "outputs": [],
   "source": [
    "filename = name.lower().replace(\" \", \"_\") + \".csv\"\n",
    "\n",
    "if not os.path.exists(\"./results_qc/\"):\n",
    "    os.mkdir(\"./results_qc/\")\n",
    "\n",
    "data_new.to_csv(os.path.join(\"./results_qc/\", filename), index=False)"
   ]
  },
  {
   "cell_type": "code",
   "execution_count": null,
   "metadata": {},
   "outputs": [],
   "source": []
  }
 ],
 "metadata": {
  "interpreter": {
   "hash": "e04a3449c782b6e79ea447828755b3434913238059ef6adb8e59716fc5529dbd"
  },
  "kernelspec": {
   "display_name": "Python 3.10.4 ('raman_pca')",
   "language": "python",
   "name": "python3"
  },
  "language_info": {
   "codemirror_mode": {
    "name": "ipython",
    "version": 3
   },
   "file_extension": ".py",
   "mimetype": "text/x-python",
   "name": "python",
   "nbconvert_exporter": "python",
   "pygments_lexer": "ipython3",
   "version": "3.10.4"
  },
  "orig_nbformat": 4
 },
 "nbformat": 4,
 "nbformat_minor": 2
}
