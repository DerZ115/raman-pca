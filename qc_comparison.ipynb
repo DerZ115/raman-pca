{
 "cells": [
  {
   "cell_type": "code",
   "execution_count": 29,
   "id": "2c6da90d-c3a0-4d04-9e1b-d34bf9a29265",
   "metadata": {
    "tags": []
   },
   "source": [
    "import os\n",
    "import pandas as pd\n",
    "import numpy as np\n",
    "import seaborn as sns\n",
    "import matplotlib.pyplot as plt\n",
    "\n",
    "from raman_lib.spectra_scoring import score_sort_spectra, score_names\n",
    "from raman_lib.misc import load_data\n",
    "from raman_lib.visualization import plot_spectra_peaks, boxplot_comparison\n",
    "from raman_lib.preprocessing import RangeLimiter, BaselineCorrector"
   ],
   "outputs": []
  },
  {
   "cell_type": "code",
   "execution_count": 57,
   "id": "2eb5a080-3872-4d15-80c1-8dd8d061f070",
   "metadata": {
    "tags": []
   },
   "source": [
    "# Paths where the data is stored\n",
    "paths = [\n",
    "    r\"/proj/raman/bernadette_rebekka/out/10 mW\",\n",
    "    r\"/proj/raman/bernadette_rebekka/out/25 mW\",\n",
    "    r\"/proj/raman/bernadette_rebekka/out/data/B\",\n",
    "    r\"/proj/raman/bernadette_rebekka/out/data/D\"\n",
    "]\n",
    "\n",
    "names = [\"10mW\", \"25mW\", \"B\", \"D\"]\n",
    "\n",
    "# Spectral range to analyze\n",
    "# Use 'None' to use the whole range'\n",
    "wn_min = 500\n",
    "wn_max = 1650\n",
    "\n",
    "# Window size for the Savitzky-Golay-Filter. Higher means stronger smoothing and less peaks found\n",
    "sg_window = 50\n",
    "\n",
    "# Threshold for the derivative. Higher means less peaks found.\n",
    "threshold = 0.001\n",
    "\n",
    "# Minimum height a peak must have to be detected\n",
    "min_height = 50\n",
    "\n",
    "# Plot baseline corrected (False) or raw spectra (True)\n",
    "plot_raw = True"
   ],
   "outputs": []
  },
  {
   "cell_type": "code",
   "execution_count": 52,
   "id": "c829b595-de3d-451f-9ec4-347186eaacee",
   "metadata": {
    "tags": []
   },
   "source": [
    "scores = []\n",
    "\n",
    "\n",
    "for path in paths:\n",
    "    print(path)\n",
    "    # Load spectra from path\n",
    "    data = load_data(path)\n",
    "    # Run QC\n",
    "    _, _, score_dict = score_sort_spectra(data, \n",
    "                                          n=1000,\n",
    "                                          limits=(wn_min, wn_max), \n",
    "                                          sg_window=sg_window, \n",
    "                                          threshold=threshold, \n",
    "                                          min_height=min_height,\n",
    "                                          score_measure=1,\n",
    "                                          n_peaks_influence=2,\n",
    "                                          detailed=True)\n",
    "\n",
    "    scores.append(score_dict['total_scores'])\n",
    "    \n",
    "    \n",
    "    "
   ],
   "outputs": []
  },
  {
   "cell_type": "code",
   "execution_count": 58,
   "id": "1c0db2f1-e833-4d64-98af-f27bf8aa074d",
   "metadata": {
    "tags": []
   },
   "source": [
    "scores_med = []\n",
    "\n",
    "for group in scores:\n",
    "    scores_med.append(np.median(group))"
   ],
   "outputs": []
  },
  {
   "cell_type": "code",
   "execution_count": 59,
   "id": "3b958cbe-3734-4c3a-a284-595f6521ac9a",
   "metadata": {
    "tags": []
   },
   "source": [
    "scores_med"
   ],
   "outputs": []
  },
  {
   "cell_type": "code",
   "execution_count": 66,
   "id": "7ad24b83-1a59-42a9-bfdc-054c7d0b0ee1",
   "metadata": {
    "tags": []
   },
   "source": [
    "fig, ax = plt.subplots(figsize=(8,5))\n",
    "\n",
    "pd.Series(scores_med, index=names).plot(kind=\"bar\", rot=0, ax=ax, zorder=5)\n",
    "\n",
    "ax.grid(axis=\"y\")\n",
    "ax.set_ylabel(\"Quality Score\", fontsize=12)\n",
    "\n",
    "fig.savefig(\"./qc_scores_rb.png\", format=\"png\", dpi=400, bbox_inches=\"tight\")"
   ],
   "outputs": []
  },
  {
   "cell_type": "code",
   "execution_count": 61,
   "id": "b3854aac-b6bd-4afb-b0e0-eb34948b9ac7",
   "metadata": {
    "tags": []
   },
   "source": [
    "pd.DataFrame([scores_med], columns=names)"
   ],
   "outputs": []
  },
  {
   "cell_type": "code",
   "execution_count": 25,
   "id": "a472b374-1e1a-40c2-96dd-942cfcc3d0f5",
   "metadata": {
    "tags": []
   },
   "source": [
    "fig, ax = plt.subplots(figsize=(8,5))\n",
    "\n",
    "pd.DataFrame(scores_med, columns=weeks_names, index=nanos_names).plot(kind=\"bar\", ax=ax, rot=0, zorder=5)\n",
    "\n",
    "ax.grid(axis=\"y\")\n",
    "ax.set_ylabel(\"Quality Score\", fontsize=12)\n",
    "\n",
    "fig.savefig(\"./qc_scores.png\", format=\"png\", dpi=400, bbox_inches=\"tight\")"
   ],
   "outputs": []
  },
  {
   "cell_type": "code",
   "execution_count": 38,
   "id": "613b58aa-5205-4c7c-a989-bb108a72687f",
   "metadata": {
    "tags": []
   },
   "source": [],
   "outputs": []
  },
  {
   "cell_type": "code",
   "execution_count": null,
   "id": "dbbb594a-d1d2-45be-8e3d-9bdbeb74480e",
   "metadata": {},
   "source": [],
   "outputs": []
  }
 ],
 "metadata": {
  "kernelspec": {
   "display_name": "raman",
   "language": "python",
   "name": "raman"
  },
  "language_info": {
   "codemirror_mode": {
    "name": "ipython",
    "version": 3
   },
   "file_extension": ".py",
   "mimetype": "text/x-python",
   "name": "python",
   "nbconvert_exporter": "python",
   "pygments_lexer": "ipython3",
   "version": "3.10.8"
  }
 },
 "nbformat": 4,
 "nbformat_minor": 5
}
